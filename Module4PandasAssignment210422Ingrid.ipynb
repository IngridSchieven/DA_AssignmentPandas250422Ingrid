{
  "nbformat": 4,
  "nbformat_minor": 0,
  "metadata": {
    "colab": {
      "name": "Module4PandasAssignment210422Ingrid.ipynb",
      "provenance": [],
      "collapsed_sections": [],
      "history_visible": true,
      "authorship_tag": "ABX9TyMpUJOqVQJU5F90jaaNx3BT",
      "include_colab_link": true
    },
    "kernelspec": {
      "name": "python3",
      "display_name": "Python 3"
    },
    "language_info": {
      "name": "python"
    }
  },
  "cells": [
    {
      "cell_type": "markdown",
      "metadata": {
        "id": "view-in-github",
        "colab_type": "text"
      },
      "source": [
        "<a href=\"https://colab.research.google.com/github/IngridSchieven/DA_AssignmentPandas250422Ingrid/blob/main/Module4PandasAssignment210422Ingrid.ipynb\" target=\"_parent\"><img src=\"https://colab.research.google.com/assets/colab-badge.svg\" alt=\"Open In Colab\"/></a>"
      ]
    },
    {
      "cell_type": "markdown",
      "source": [
        "Assignment - Global CO2 emissions\n",
        "We are going to make several graphs based on a SINGLE dataset.\n"
      ],
      "metadata": {
        "id": "JeVeTwYxx-Xs"
      }
    },
    {
      "cell_type": "code",
      "source": [
        "import pandas as pd\n",
        "import numpy as np\n",
        "import matplotlib.pyplot as plt\n",
        "from pandas.api.types import is_string_dtype\n",
        "from pandas.api.types import is_numeric_dtype\n",
        "pd.set_option('precision', 3)\n",
        "\n",
        "dataset = pd.read_html(\"https://en.wikipedia.org/wiki/List_of_countries_by_carbon_dioxide_emissions\")\n",
        "countries = dataset[1] #Dataset: This article needs to be updated verwijderen\n",
        "\n",
        "countries.columns = ['country', 'y1990', 'y2005', 'y2017', '2017%_of_world', '2017vs1990_change%', '2017pla', '2017pc', '2018incl_LUCF', '2018excl_LUCF']\n",
        "countries = countries.loc[3:] #eerste drie regels verwijderen\n",
        "countries = countries.drop(67) #Europese Unie verwijderen #inplace+True?\n",
        "\n",
        "top5countries = countries.sort_values(['y1990','y2005','y2017'], ascending = False).head(5)\n",
        "display(top5countries)\n"
      ],
      "metadata": {
        "id": "2En9u17EyEmd"
      },
      "execution_count": null,
      "outputs": []
    },
    {
      "cell_type": "code",
      "source": [
        "#Graph 1: CO2 of the bigger countries 5 biggest CO2 producers\n",
        "fig, ax = plt.subplots()\n",
        "\n",
        "years = ['y1990', 'y2005', 'y2017'] \n",
        "\n",
        "for index, row in top5countries.iterrows():\n",
        "  plt.plot(years, row[1:4], 'o-', label=row[0])  \n",
        "\n",
        "plt.title('The 5 biggest CO2 producers in the world')\n",
        "plt.xlabel('Years')\n",
        "plt.ylabel('Emissions')\n",
        "plt.grid()\n",
        "plt.legend(loc='best', bbox_to_anchor=(1, 0.5))\n",
        "plt.show()\n",
        "\n"
      ],
      "metadata": {
        "id": "e5XEyH-uzIVj"
      },
      "execution_count": null,
      "outputs": []
    },
    {
      "cell_type": "code",
      "source": [
        "#Graph 2: worst and best changers\n",
        "#top5countries = countries.sort_values(['1990','2005','2017'], ascending = False).head(5)\n",
        "#display(top5countries)\n",
        "\n",
        "%precision 2\n",
        "pd.set_option('precision', 2)\n",
        "\n",
        "countries['rel1990'] = countries['y1990'] / countries['y1990'] * 100 #berekening klopt 100%\n",
        "countries['rel2005'] = countries['y2005'] / countries['y1990'] * 100 #berekening klopt Afghanistan 41.75\n",
        "countries['rel2017'] = countries['y2017'] / countries['y1990'] * 100 #berekening klopt Afghanistan 448.63\n",
        "#display(countries)\n",
        "\n",
        "top3changers = countries.sort_values(['rel1990', 'rel2017'], ascending = False).head(3)\n",
        "#print(top3changers)\n",
        "bottom3changers = countries.sort_values(['rel1990', 'rel2017'], ascending = False).tail(3)\n",
        "\n",
        "fig, ax = plt.subplots()\n",
        "years = ['rel1990', 'rel2005', 'rel2017'] \n",
        "\n",
        "#plot 1 & 2\n",
        "for index, row in top3changers.iterrows():\n",
        "   plt.plot(years, row[-3:], 'o-', label=row[0]) \n",
        "for index, row in bottom3changers.iterrows():\n",
        "   plt.plot(years, row[-3:],'o-', label=row[0])   \n",
        "\n",
        "plt.title('3 Best & 3 Worst changers in the world')\n",
        "plt.xlabel('Years')\n",
        "plt.ylabel('CO2 emitted')\n",
        "plt.grid()\n",
        "plt.legend(loc='best', bbox_to_anchor=(1, 0.5))\n",
        "plt.show()\n",
        "\n"
      ],
      "metadata": {
        "id": "lg5nVRz6zTPa"
      },
      "execution_count": null,
      "outputs": []
    },
    {
      "cell_type": "code",
      "source": [
        "#plot 3 - at least 5 Mt of CO2 in 1990 - find best en worst 3 of them\n",
        "em_countries_1990 = countries[countries['y1990'] >= 5]\n",
        "\n",
        "top3_head_1990 = em_countries_1990.sort_values(['y1990'], ascending = False).head(3)\n",
        "top3_tail_1990 = em_countries_1990.sort_values(['y1990'], ascending = False).tail(3)\n",
        "top3_head_tail_1990 = top3_head_1990.append(top3_tail_1990) #samenvoegen\n",
        "\n",
        "#x-as = years 1990 2005 2017 \n",
        "#y-as = relative amount of CO2 - 1990 dmv ittereren zie smoking in london\n",
        "\n",
        "for index, row in top3_head_tail_1990.iterrows():\n",
        "  plt.plot(years, row[-3:], 'o-', label=row[0]) #label= countrie-namen = kolom 0\n",
        "\n",
        "plt.title('Best 3 & Worst 3 changers in the world')\n",
        "plt.xlabel('Years')\n",
        "plt.ylabel('CO2 emitted %') #1990 = 100%\n",
        "plt.grid()\n",
        "plt.legend(loc='best', bbox_to_anchor=(1, 0.5))\n",
        "plt.show()"
      ],
      "metadata": {
        "id": "4Q-al9ZC36st"
      },
      "execution_count": null,
      "outputs": []
    },
    {
      "cell_type": "code",
      "source": [
        "#display(top3_head_tail_1990)"
      ],
      "metadata": {
        "id": "9tDl277LF7RB"
      },
      "execution_count": null,
      "outputs": []
    }
  ]
}