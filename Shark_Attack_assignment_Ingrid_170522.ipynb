{
  "nbformat": 4,
  "nbformat_minor": 0,
  "metadata": {
    "colab": {
      "name": "Shark_Attack_assignment_Ingrid_170522.ipynb",
      "provenance": [],
      "collapsed_sections": [],
      "authorship_tag": "ABX9TyMOXbeY1r8qg16rCxFkJwYx",
      "include_colab_link": true
    },
    "kernelspec": {
      "name": "python3",
      "display_name": "Python 3"
    },
    "language_info": {
      "name": "python"
    }
  },
  "cells": [
    {
      "cell_type": "markdown",
      "metadata": {
        "id": "view-in-github",
        "colab_type": "text"
      },
      "source": [
        "<a href=\"https://colab.research.google.com/github/IngridSchieven/DA_AssignmentPandas250422Ingrid/blob/main/Shark_Attack_assignment_Ingrid_170522.ipynb\" target=\"_parent\"><img src=\"https://colab.research.google.com/assets/colab-badge.svg\" alt=\"Open In Colab\"/></a>"
      ]
    },
    {
      "cell_type": "code",
      "execution_count": null,
      "metadata": {
        "id": "FseDZ6emphdz"
      },
      "outputs": [],
      "source": [
        "import pandas as pd\n",
        "import numpy as np\n",
        "import matplotlib.pyplot as plt\n",
        "\n",
        "%load_ext google.colab.data_table"
      ]
    },
    {
      "cell_type": "code",
      "source": [
        "#read in the CVS file attacks.csv\n",
        "#many thanks to Stefanie for sharing her Github repository\n",
        "\n",
        "url = 'https://raw.githubusercontent.com/stefaniemichielsen/Winc/main/attacks.csv'\n",
        "df = pd.read_csv(url, encoding='cp1252')\n",
        "\n",
        "df.head(10) #quick scan of df"
      ],
      "metadata": {
        "id": "yAnyYaQesC_Z"
      },
      "execution_count": null,
      "outputs": []
    },
    {
      "cell_type": "code",
      "source": [
        "# Explore the dataset!\n",
        "\n",
        "#df.shape         #25723 rows, 24 columns\n",
        "#df.size          #617352 cells\n",
        "#df.columns       #NB: some weird columnnames appear already\n",
        "#df.head()\n",
        "#df.tail()        #NB: only NaN's appear!!\n",
        "#df.info()        #gives valuable information\n",
        "#df.describe()\n",
        "\n",
        "# note: I'm always printing out df.info(), gives me a good overview what to do to clean up the df"
      ],
      "metadata": {
        "id": "q8JZ0cwNstBu"
      },
      "execution_count": null,
      "outputs": []
    },
    {
      "cell_type": "code",
      "source": [
        "df.sample(1)"
      ],
      "metadata": {
        "id": "0h4rTb-xvTi2"
      },
      "execution_count": null,
      "outputs": []
    },
    {
      "cell_type": "code",
      "source": [
        "#Quick overview of missing data use these features:\n",
        "\n",
        "for column in df.columns:\n",
        "    aantal_missing = np.sum(df[column].isnull())\n",
        "    print('{} - {}'.format(column, aantal_missing))"
      ],
      "metadata": {
        "id": "IhR35ASE9Huc"
      },
      "execution_count": null,
      "outputs": []
    },
    {
      "cell_type": "code",
      "source": [
        "#Clean up the dataset\n",
        "#drop multiple columns that are irrelevant\n",
        "df1 = df.drop(columns=['Year', 'Investigator or Source', 'pdf','Time', 'Area', 'Location', 'href formula', 'href',\n",
        "       'Case Number.1', 'Case Number.2', 'original order', 'Unnamed: 22', 'Injury',\n",
        "       'Unnamed: 23'])\n",
        "\n",
        "#rename columns \n",
        "df2 = df1.rename(columns= {'Case Number': 'Case_Number', 'Type': 'Attack_Type', 'Name': 'Victim_Name', 'Fatal (Y/N)': 'Fatal', 'Species ': 'Shark_Type', 'Sex ': 'Sex'})\n",
        "\n",
        "#set_index to set a useful index > not necessary??"
      ],
      "metadata": {
        "id": "rNyLquB1xePR"
      },
      "execution_count": null,
      "outputs": []
    },
    {
      "cell_type": "code",
      "source": [
        "df2.sample(5)\n",
        "df2.columns"
      ],
      "metadata": {
        "id": "-qLJo0zS0TAb"
      },
      "execution_count": null,
      "outputs": []
    },
    {
      "cell_type": "code",
      "source": [
        "#Looking for missing data\n",
        "\n",
        "#A. look at al the unique values (per column?)\n",
        "#B. sorting and looking at the edges\n",
        "#C. casting to a type\n",
        "#D. looking at the freq.\n",
        "\n",
        "#after that:\n",
        "\n",
        "# Decide what to do with the default Null values and replace in for example: NaN, None, NaT, Unknown, False etc.\n",
        "# Replace missing values with tactics as dropna, fill_values etc."
      ],
      "metadata": {
        "id": "XNoW0fyK-evV"
      },
      "execution_count": null,
      "outputs": []
    },
    {
      "cell_type": "code",
      "source": [
        "#A. B. C. D. \n",
        "#I'm using the tactics out of the missing data lesson of Winc Academy\n",
        "\n",
        "def print_separator(sep, num, msg):\n",
        "  print(\"\\n\")\n",
        "  print(sep * num)\n",
        "  print(f\"{msg}\")\n",
        "  print(sep * num)\n",
        "\n",
        "#A - LOOKING AT UNIQUE VALUES\n",
        "def look_at_unique_values(column): \n",
        "  unique_values_cutoff = 50\n",
        "  unique_values = column.unique()\n",
        "  num_unique_values = len(unique_values)\n",
        "  if num_unique_values == len(column):\n",
        "    print(f\"Each value in the column is unique (total: {num_unique_values})\")\n",
        "  elif num_unique_values < unique_values_cutoff:\n",
        "    print(f\"Less than {unique_values_cutoff} unique values:\")\n",
        "    # We may get an error when sorting\n",
        "    try:\n",
        "      sorted = np.sort(unique_values)\n",
        "      print(\"Values are sorted\")\n",
        "      display(list(sorted))\n",
        "    except:\n",
        "      print(\"Could not sort values\")\n",
        "      display(list(unique_values))\n",
        "  else:\n",
        "    print(f\"More than {unique_values_cutoff} unique values (total: {num_unique_values})\")\n",
        "\n",
        "#B - LOOK AT EDGES AND SORT\n",
        "def look_at_edges(df2, column_name):\n",
        "  # inner function\n",
        "  def show_head_and_tail(values):\n",
        "      num_items_to_slice = 10\n",
        "      display(list(values)[:num_items_to_slice])\n",
        "      display(list(values)[-num_items_to_slice:])\n",
        "\n",
        "  column = df2[column_name]\n",
        "  unique_values = column.unique()\n",
        "  try:\n",
        "      sorted = np.sort(unique_values)\n",
        "      print(\"Unique values sorted, head and tail:\")\n",
        "      show_head_and_tail(sorted)\n",
        "  except TypeError as error:\n",
        "      print(f\"Could not sort values: {error}\")\n",
        "      print(\"..so let's try filtering NULL values and then sorting\")\n",
        "      non_null_uniques = df2.loc[~df2[column_name].isnull(), column_name].unique()\n",
        "      sorted = np.sort(non_null_uniques)\n",
        "      show_head_and_tail(sorted)\n",
        "\n",
        "#C - CAST TO TYPE\n",
        "def cast_to_type(column, maybe_type):\n",
        "  try:\n",
        "    column.astype(maybe_type)\n",
        "    print(f\"Casting to {maybe_type} was successful\")\n",
        "  except ValueError as error:\n",
        "    print(f\"Could not cast to {maybe_type}: {error}\")\n",
        "\n",
        "\n",
        "def find_non_default_missing_values(df2, column_name, maybe_type):\n",
        "  long_separator_amount = 75\n",
        "  short_separator_amount = 35\n",
        "\n",
        "  print_separator('*', long_separator_amount, f'Finding non default missing values for column \\'{column_name}\\'')\n",
        "  print(f'Column \\'{column_name}\\'has datatype: {df2.dtypes[column_name]}')\n",
        "  column = df2[column_name]\n",
        "\n",
        "# A - LOOK AT UNIQUE VALUES PER COLUMN\n",
        "  print_separator(\"-\", short_separator_amount, \"A: Looking at unique values\")\n",
        "  look_at_unique_values(column)\n",
        "\n",
        "# B - SORTING AND LOOKING AT EDGES\n",
        "  print_separator(\"-\", short_separator_amount, \"B: Sorting and looking at the edges\")\n",
        "  look_at_edges(df2, column_name)\n",
        "\n",
        "# C - CASTING TO A TYPE\n",
        "  print_separator(\"-\", short_separator_amount, f\"C: Casting to type: {maybe_type}\")\n",
        "  cast_to_type(column, maybe_type)\n",
        "\n",
        "# D - LOOKING AT THE FREQUENTIE\n",
        "  print_separator(\"-\", short_separator_amount, \"D: Looking at frequency\")\n",
        "  display(column.value_counts(dropna=False)) #this is the code, no function needed\n",
        "\n",
        "  print(\"\\n\") #just printing a new line\n",
        "\n",
        "# df2.head()"
      ],
      "metadata": {
        "id": "F6_Sn5Nm_YqQ"
      },
      "execution_count": null,
      "outputs": []
    },
    {
      "cell_type": "code",
      "source": [
        "display(list(df2.columns))"
      ],
      "metadata": {
        "id": "vSeTLJmOGz5U"
      },
      "execution_count": null,
      "outputs": []
    },
    {
      "cell_type": "code",
      "source": [
        "#Check if the code worked out fine! > it does!\n",
        "#find_non_default_missing_values(df2, 'Date', 'datetime64')\n",
        "#find_non_default_missing_values(df2, \"Country\", \"str\") "
      ],
      "metadata": {
        "id": "xe9-Clq1_sez"
      },
      "execution_count": null,
      "outputs": []
    },
    {
      "cell_type": "code",
      "source": [
        "# Decide for every column what to do with the default Null values and replace \n",
        "# in for example: NaN, None, NaT, Unknown, False etc.\n",
        "\n",
        "#using this function:\n",
        "from dataclasses import replace\n",
        "def replace_value(df2, column_name, missing_old, missing_new):\n",
        "  # ⚠️ Mutates df\n",
        "  df2[column_name] = df2[column_name].replace({missing_old: missing_new})\n",
        "\n",
        "#and helper functions:\n",
        "def display_default_null_values(df, column_name):\n",
        "  nulls = df.loc[df[column_name].isnull()]\n",
        "  print(f\"Number of default null values in \\\"{column_name}\\\": {len(nulls)}\")\n",
        "\n",
        "# ✅ Case_Number\n",
        "#find_non_default_missing_values(df2, 'Case_Number','string')\n",
        "#action > replace '0' into None\n",
        "replace_value(df2, 'Case_Number', '0', None)\n",
        "replace_value(df2, 'Case_Number', 'NaN', None)\n",
        "#find_non_default_missing_values(df2, 'Case_Number','string') #rerun to check result\n",
        "\n",
        "# ✅ Date\n",
        "#find_non_default_missing_values(df2, 'Date','datetime64')\n",
        "#action > replace Nan's into NaT\n",
        "replace_value(df2, 'Date', np.nan, np.datetime64('nat'))\n",
        "#find_non_default_missing_values(df2, 'Date','datetime64') #rerun to check result\n",
        "\n",
        "# ✅ Attack_Type\n",
        "#find_non_default_missing_values(df2, 'Attack_Type','str') \n",
        "#action > replace Boat and Boatomg to Boating > replace Invalid to None\n",
        "replace_value(df2, 'Attack_Type', 'Boat', 'Boating')\n",
        "replace_value(df2, 'Attack_Type', 'Boatomg', 'Boating')\n",
        "replace_value(df2, 'Attack_Type', 'Invalid', 'None')\n",
        "replace_value(df2, 'Attack_Type', np.nan, 'None')\n",
        "#find_non_default_missing_values(df2, 'Attack_Type','str')  #rerun to check result\n",
        "\n",
        "# ✅ Country\n",
        "#find_non_default_missing_values(df2, 'Country','str')\n",
        "#no action needed\n",
        "\n",
        "# ✅ Area\n",
        "#find_non_default_missing_values(df2, 'Area','str')\n",
        "#no action needed\n",
        "\n",
        "# ✅ Location\n",
        "#find_non_default_missing_values(df2, 'Location', 'str')\n",
        "#no action needed\n",
        "\n",
        "# ✅ Activity\n",
        "#find_non_default_missing_values(df2, 'Activity', 'str')\n",
        "#action > replace NaN's into 'Unknown'\n",
        "replace_value(df2, 'Activity', np.nan, 'Unknown')\n",
        "replace_value(df2, 'Activity', 'Swimming ', 'Swimming')\n",
        "#find_non_default_missing_values(df2, 'Activity', 'str') #rerun to check result\n",
        "\n",
        "# ✅ Victim_Name\n",
        "#find_non_default_missing_values(df2, 'Victim_Name',\"str\")\n",
        "replace_value(df2, 'Victim_Name', np.nan, 'Unknown')\n",
        "#find_non_default_missing_values(df2, 'Victim_Name', 'str') #rerun to check result\n",
        "# ⚠️ Interesting: values in this column Female, Male, Boy can \n",
        "#     be useful in column 'Sex ' to fill missing values there!!!\n",
        "\n",
        "# ✅ Sex\n",
        "#find_non_default_missing_values(df2, 'Sex','bool')\n",
        "#df2.Sex.unique()\n",
        "replace_value(df2, 'Sex', 'M ', 'M')\n",
        "replace_value(df2, 'Sex', '.', np.nan)\n",
        "replace_value(df2, 'Sex', 'N', np.nan)\n",
        "replace_value(df2, 'Sex', 'lli', np.nan)\n",
        "replace_value(df2, 'Sex', 'Unknown', np.nan)\n",
        "#find_non_default_missing_values(df2, 'Sex','bool')\n",
        "\n",
        "# ✅ Age\n",
        "#find_non_default_missing_values(df2, 'Age', 'int')\n",
        "#puinhoop column - veel acties - zie ook liveles DA Simon\n",
        "#check df.Age.value_counts()\n",
        "#check df.Age.value_counts()['Teens'] etc. frequentie te laag om df aan te passen.\n",
        "#Keuze gemaakt om alle str values omzetten naar NaN's middels volgende functie:\n",
        "def cleanup_age(value):\n",
        "  try:\n",
        "    return int(value)\n",
        "  except:\n",
        "    return np.nan\n",
        "\n",
        "#df.Age = df.Age.apply(cleanup_age)\n",
        "#testing def\n",
        "#cleanup_age('Teen')\n",
        "#cleanup_age('11') \n",
        "#df.Age.unique()\n",
        "#find_non_default_missing_values(df2, 'Age', 'int')\n",
        "\n",
        "# ✅ Injury\n",
        "#find_non_default_missing_values(df2, 'Injury', 'str')\n",
        "# ⚠️ Interesting: Provoked in string, search in fillin column Attack_Type???\n",
        "# ⚠️ Interesting: FATAL in string, search in fillin column FATAL(Y/N)???\n",
        "#choose to don't clean up this columns at the moment!\n",
        "\n",
        "# ✅ Fatal\n",
        "#find_non_default_missing_values(df2, 'Fatal','bool')   #toodoooo clean up\n",
        "replace_value(df2, 'Fatal', ' N', 'N')\n",
        "replace_value(df2, 'Fatal', 'N ', 'N')\n",
        "replace_value(df2, 'Fatal', 'y', 'Y')\n",
        "replace_value(df2, 'Fatal', 'M', 'N') #assume it's a typo\n",
        "replace_value(df2, 'Fatal', '2017', np.nan)\n",
        "#find_non_default_missing_values(df2, 'Fatal','bool')\n",
        "\n",
        "# ✅ Time\n",
        "#find_non_default_missing_values(df2, 'Time','datetime64')\n",
        "#No action needed at this moment, maybe in future analyse questions\n",
        "\n",
        "# ✅ Shark_Type\n",
        "#find_non_default_missing_values(df2, 'Shark_Type', 'str')\n",
        "replace_value(df2, 'Shark_Type', 'Invalid', 'Unknown')\n",
        "replace_value(df2, 'Shark_Type', np.nan, 'Unknown')\n",
        "replace_value(df2, 'Shark_Type', 'Shark involvement not confirmed', 'Unknown')\n",
        "replace_value(df2, 'Shark_Type', 'Shark involvement prior to death was not confirmed', 'Unknown')\n",
        "replace_value(df2, 'Shark_Type', 'Shark involvement prior to death unconfirmed', 'Unknown')\n",
        "replace_value(df2, 'Shark_Type', '\\xa0', 'Unknown')\n",
        "replace_value(df2, 'Shark_Type', '', 'Unknown')\n",
        "replace_value(df2, 'Shark_Type', 'Unidentified shark', 'Unknown')\n",
        "#find_non_default_missing_values(df2, 'Shark_Type', 'str')"
      ],
      "metadata": {
        "id": "NgeJz6YBCqRC"
      },
      "execution_count": null,
      "outputs": []
    },
    {
      "cell_type": "code",
      "source": [
        "#end of the 'fun' part of the assignment. \n",
        "#below I'm starting to struggle, which strategies should I use of am I missing?"
      ],
      "metadata": {
        "id": "PphxwzrMzyGM"
      },
      "execution_count": null,
      "outputs": []
    },
    {
      "cell_type": "code",
      "source": [
        "# after that:\n",
        "# Replace missing values with tactics as dropna, fill_values etc.\n",
        "\n",
        "#Just a little test:\n",
        "percent_missing = df2.isnull().mean() * 100\n",
        "display(percent_missing)\n",
        "\n",
        "#first I want to get rid of all rows with only NaN's!\n",
        "df3 = df2.dropna(how='all')\n",
        "\n",
        "df3.shape  #8703 rows in stead of 25K!! #some difficulties with running this...???\n",
        "\n",
        "#At the moment I decide not to do more actions, just to avoid BIAS's"
      ],
      "metadata": {
        "id": "M4PaGLUPCte-",
        "colab": {
          "base_uri": "https://localhost:8080/",
          "height": 225
        },
        "outputId": "0898a201-956b-41b8-800a-dbe905a71468"
      },
      "execution_count": null,
      "outputs": [
        {
          "output_type": "display_data",
          "data": {
            "text/plain": [
              "Case_Number    75.500525\n",
              "Date           75.500525\n",
              "Attack_Type     0.000000\n",
              "Country        75.694903\n",
              "Activity        0.000000\n",
              "Victim_Name     0.000000\n",
              "Sex            77.712553\n",
              "Age            86.506240\n",
              "Fatal          77.599813\n",
              "Shark_Type      0.000000\n",
              "dtype: float64"
            ]
          },
          "metadata": {}
        },
        {
          "output_type": "execute_result",
          "data": {
            "text/plain": [
              "(25723, 10)"
            ]
          },
          "metadata": {},
          "execution_count": 203
        }
      ]
    },
    {
      "cell_type": "code",
      "source": [
        "df3.sample(5) #still seeing all the NAN'S etc.!!!???"
      ],
      "metadata": {
        "colab": {
          "base_uri": "https://localhost:8080/",
          "height": 196
        },
        "id": "XIAc4E0r02s8",
        "outputId": "0c33b167-94fd-4e9f-d289-838028928a74"
      },
      "execution_count": null,
      "outputs": [
        {
          "output_type": "execute_result",
          "data": {
            "text/plain": [
              "      Case_Number         Date Attack_Type Country  \\\n",
              "15505         NaN          NaT        None     NaN   \n",
              "21712         NaN          NaT        None     NaN   \n",
              "23725         NaN          NaT        None     NaN   \n",
              "1867   2002.04.20  20-Apr-2002  Unprovoked     USA   \n",
              "25395         NaN          NaT        None     NaN   \n",
              "\n",
              "                                             Activity     Victim_Name  Sex  \\\n",
              "15505                                         Unknown         Unknown  NaN   \n",
              "21712                                         Unknown         Unknown  NaN   \n",
              "23725                                         Unknown         Unknown  NaN   \n",
              "1867   Surfing, but standing in water alongside board  Robert Stinson    M   \n",
              "25395                                         Unknown         Unknown  NaN   \n",
              "\n",
              "       Age Fatal        Shark_Type  \n",
              "15505  NaN   NaN           Unknown  \n",
              "21712  NaN   NaN           Unknown  \n",
              "23725  NaN   NaN           Unknown  \n",
              "1867    34     N  1.2 m [4'] shark  \n",
              "25395  NaN   NaN           Unknown  "
            ],
            "text/html": [
              "\n",
              "  <div id=\"df-9e790c48-fd9c-4df2-9af7-c48f60f5893a\">\n",
              "    <div class=\"colab-df-container\">\n",
              "      <div>\n",
              "<style scoped>\n",
              "    .dataframe tbody tr th:only-of-type {\n",
              "        vertical-align: middle;\n",
              "    }\n",
              "\n",
              "    .dataframe tbody tr th {\n",
              "        vertical-align: top;\n",
              "    }\n",
              "\n",
              "    .dataframe thead th {\n",
              "        text-align: right;\n",
              "    }\n",
              "</style>\n",
              "<table border=\"1\" class=\"dataframe\">\n",
              "  <thead>\n",
              "    <tr style=\"text-align: right;\">\n",
              "      <th></th>\n",
              "      <th>Case_Number</th>\n",
              "      <th>Date</th>\n",
              "      <th>Attack_Type</th>\n",
              "      <th>Country</th>\n",
              "      <th>Activity</th>\n",
              "      <th>Victim_Name</th>\n",
              "      <th>Sex</th>\n",
              "      <th>Age</th>\n",
              "      <th>Fatal</th>\n",
              "      <th>Shark_Type</th>\n",
              "    </tr>\n",
              "  </thead>\n",
              "  <tbody>\n",
              "    <tr>\n",
              "      <th>15505</th>\n",
              "      <td>NaN</td>\n",
              "      <td>NaT</td>\n",
              "      <td>None</td>\n",
              "      <td>NaN</td>\n",
              "      <td>Unknown</td>\n",
              "      <td>Unknown</td>\n",
              "      <td>NaN</td>\n",
              "      <td>NaN</td>\n",
              "      <td>NaN</td>\n",
              "      <td>Unknown</td>\n",
              "    </tr>\n",
              "    <tr>\n",
              "      <th>21712</th>\n",
              "      <td>NaN</td>\n",
              "      <td>NaT</td>\n",
              "      <td>None</td>\n",
              "      <td>NaN</td>\n",
              "      <td>Unknown</td>\n",
              "      <td>Unknown</td>\n",
              "      <td>NaN</td>\n",
              "      <td>NaN</td>\n",
              "      <td>NaN</td>\n",
              "      <td>Unknown</td>\n",
              "    </tr>\n",
              "    <tr>\n",
              "      <th>23725</th>\n",
              "      <td>NaN</td>\n",
              "      <td>NaT</td>\n",
              "      <td>None</td>\n",
              "      <td>NaN</td>\n",
              "      <td>Unknown</td>\n",
              "      <td>Unknown</td>\n",
              "      <td>NaN</td>\n",
              "      <td>NaN</td>\n",
              "      <td>NaN</td>\n",
              "      <td>Unknown</td>\n",
              "    </tr>\n",
              "    <tr>\n",
              "      <th>1867</th>\n",
              "      <td>2002.04.20</td>\n",
              "      <td>20-Apr-2002</td>\n",
              "      <td>Unprovoked</td>\n",
              "      <td>USA</td>\n",
              "      <td>Surfing, but standing in water alongside board</td>\n",
              "      <td>Robert Stinson</td>\n",
              "      <td>M</td>\n",
              "      <td>34</td>\n",
              "      <td>N</td>\n",
              "      <td>1.2 m [4'] shark</td>\n",
              "    </tr>\n",
              "    <tr>\n",
              "      <th>25395</th>\n",
              "      <td>NaN</td>\n",
              "      <td>NaT</td>\n",
              "      <td>None</td>\n",
              "      <td>NaN</td>\n",
              "      <td>Unknown</td>\n",
              "      <td>Unknown</td>\n",
              "      <td>NaN</td>\n",
              "      <td>NaN</td>\n",
              "      <td>NaN</td>\n",
              "      <td>Unknown</td>\n",
              "    </tr>\n",
              "  </tbody>\n",
              "</table>\n",
              "</div>\n",
              "      <button class=\"colab-df-convert\" onclick=\"convertToInteractive('df-9e790c48-fd9c-4df2-9af7-c48f60f5893a')\"\n",
              "              title=\"Convert this dataframe to an interactive table.\"\n",
              "              style=\"display:none;\">\n",
              "        \n",
              "  <svg xmlns=\"http://www.w3.org/2000/svg\" height=\"24px\"viewBox=\"0 0 24 24\"\n",
              "       width=\"24px\">\n",
              "    <path d=\"M0 0h24v24H0V0z\" fill=\"none\"/>\n",
              "    <path d=\"M18.56 5.44l.94 2.06.94-2.06 2.06-.94-2.06-.94-.94-2.06-.94 2.06-2.06.94zm-11 1L8.5 8.5l.94-2.06 2.06-.94-2.06-.94L8.5 2.5l-.94 2.06-2.06.94zm10 10l.94 2.06.94-2.06 2.06-.94-2.06-.94-.94-2.06-.94 2.06-2.06.94z\"/><path d=\"M17.41 7.96l-1.37-1.37c-.4-.4-.92-.59-1.43-.59-.52 0-1.04.2-1.43.59L10.3 9.45l-7.72 7.72c-.78.78-.78 2.05 0 2.83L4 21.41c.39.39.9.59 1.41.59.51 0 1.02-.2 1.41-.59l7.78-7.78 2.81-2.81c.8-.78.8-2.07 0-2.86zM5.41 20L4 18.59l7.72-7.72 1.47 1.35L5.41 20z\"/>\n",
              "  </svg>\n",
              "      </button>\n",
              "      \n",
              "  <style>\n",
              "    .colab-df-container {\n",
              "      display:flex;\n",
              "      flex-wrap:wrap;\n",
              "      gap: 12px;\n",
              "    }\n",
              "\n",
              "    .colab-df-convert {\n",
              "      background-color: #E8F0FE;\n",
              "      border: none;\n",
              "      border-radius: 50%;\n",
              "      cursor: pointer;\n",
              "      display: none;\n",
              "      fill: #1967D2;\n",
              "      height: 32px;\n",
              "      padding: 0 0 0 0;\n",
              "      width: 32px;\n",
              "    }\n",
              "\n",
              "    .colab-df-convert:hover {\n",
              "      background-color: #E2EBFA;\n",
              "      box-shadow: 0px 1px 2px rgba(60, 64, 67, 0.3), 0px 1px 3px 1px rgba(60, 64, 67, 0.15);\n",
              "      fill: #174EA6;\n",
              "    }\n",
              "\n",
              "    [theme=dark] .colab-df-convert {\n",
              "      background-color: #3B4455;\n",
              "      fill: #D2E3FC;\n",
              "    }\n",
              "\n",
              "    [theme=dark] .colab-df-convert:hover {\n",
              "      background-color: #434B5C;\n",
              "      box-shadow: 0px 1px 3px 1px rgba(0, 0, 0, 0.15);\n",
              "      filter: drop-shadow(0px 1px 2px rgba(0, 0, 0, 0.3));\n",
              "      fill: #FFFFFF;\n",
              "    }\n",
              "  </style>\n",
              "\n",
              "      <script>\n",
              "        const buttonEl =\n",
              "          document.querySelector('#df-9e790c48-fd9c-4df2-9af7-c48f60f5893a button.colab-df-convert');\n",
              "        buttonEl.style.display =\n",
              "          google.colab.kernel.accessAllowed ? 'block' : 'none';\n",
              "\n",
              "        async function convertToInteractive(key) {\n",
              "          const element = document.querySelector('#df-9e790c48-fd9c-4df2-9af7-c48f60f5893a');\n",
              "          const dataTable =\n",
              "            await google.colab.kernel.invokeFunction('convertToInteractive',\n",
              "                                                     [key], {});\n",
              "          if (!dataTable) return;\n",
              "\n",
              "          const docLinkHtml = 'Like what you see? Visit the ' +\n",
              "            '<a target=\"_blank\" href=https://colab.research.google.com/notebooks/data_table.ipynb>data table notebook</a>'\n",
              "            + ' to learn more about interactive tables.';\n",
              "          element.innerHTML = '';\n",
              "          dataTable['output_type'] = 'display_data';\n",
              "          await google.colab.output.renderOutput(dataTable, element);\n",
              "          const docLink = document.createElement('div');\n",
              "          docLink.innerHTML = docLinkHtml;\n",
              "          element.appendChild(docLink);\n",
              "        }\n",
              "      </script>\n",
              "    </div>\n",
              "  </div>\n",
              "  "
            ],
            "application/vnd.google.colaboratory.module+javascript": "\n      import \"https://ssl.gstatic.com/colaboratory/data_table/f872b2c2305463fd/data_table.js\";\n\n      window.createDataTable({\n        data: [[{\n            'v': 15505,\n            'f': \"15505\",\n        },\nNaN,\n\"NaT\",\n\"None\",\nNaN,\n\"Unknown\",\n\"Unknown\",\nNaN,\nNaN,\nNaN,\n\"Unknown\"],\n [{\n            'v': 21712,\n            'f': \"21712\",\n        },\nNaN,\n\"NaT\",\n\"None\",\nNaN,\n\"Unknown\",\n\"Unknown\",\nNaN,\nNaN,\nNaN,\n\"Unknown\"],\n [{\n            'v': 23725,\n            'f': \"23725\",\n        },\nNaN,\n\"NaT\",\n\"None\",\nNaN,\n\"Unknown\",\n\"Unknown\",\nNaN,\nNaN,\nNaN,\n\"Unknown\"],\n [{\n            'v': 1867,\n            'f': \"1867\",\n        },\n\"2002.04.20\",\n\"20-Apr-2002\",\n\"Unprovoked\",\n\"USA\",\n\"Surfing, but standing in water alongside board\",\n\"Robert Stinson\",\n\"M\",\n\"34\",\n\"N\",\n\"1.2 m [4'] shark\"],\n [{\n            'v': 25395,\n            'f': \"25395\",\n        },\nNaN,\n\"NaT\",\n\"None\",\nNaN,\n\"Unknown\",\n\"Unknown\",\nNaN,\nNaN,\nNaN,\n\"Unknown\"]],\n        columns: [[\"number\", \"index\"], [\"string\", \"Case_Number\"], [\"string\", \"Date\"], [\"string\", \"Attack_Type\"], [\"string\", \"Country\"], [\"string\", \"Activity\"], [\"string\", \"Victim_Name\"], [\"string\", \"Sex\"], [\"string\", \"Age\"], [\"string\", \"Fatal\"], [\"string\", \"Shark_Type\"]],\n        columnOptions: [{\"width\": \"1px\", \"className\": \"index_column\"}],\n        rowsPerPage: 25,\n        helpUrl: \"https://colab.research.google.com/notebooks/data_table.ipynb\",\n        suppressOutputScrolling: true,\n        minimumWidth: undefined,\n      });\n    "
          },
          "metadata": {},
          "execution_count": 204
        }
      ]
    },
    {
      "cell_type": "code",
      "source": [
        "#repareren Age kolom - casten naar int lukt niet\n",
        "#mbv fillna NaN's omgezet naar Unknown, lijkt floats om te zetten naar int...\n",
        "#df3.Age()\n",
        "values = {'Age': 'Unknown'}\n",
        "df4 = df3.fillna(value=values)\n",
        "#df4.info()\n",
        "df4.sample(5)"
      ],
      "metadata": {
        "id": "fuGYmUhcDj6W"
      },
      "execution_count": null,
      "outputs": []
    },
    {
      "cell_type": "code",
      "source": [
        "#QUESTION 1. WHAT ARE THE MOST DANGEROUS TYPES OF SHARKS TO HUMANS?\n",
        "\n",
        "#to answer this question we need to count the values in column Shark_Type \n",
        "#and be aware of different string values like White, white, shark, Sharks etc.\n",
        "\n",
        "df4.Shark_Type.value_counts().head(15) #gives indication that the White shark attacks the most. \n",
        "#try to check this out!\n",
        "\n",
        "#trying a nice way to showing the answer of Q1\n",
        "print(\"\\n\")\n",
        "print(f\"The most dangerous shark to humans is the {df4.loc[:0, 'Shark_Type']}!\")  #almost getting there... ;-)\n",
        "print(\"\\n\")\n"
      ],
      "metadata": {
        "id": "5gi3uH-ENjAt"
      },
      "execution_count": null,
      "outputs": []
    },
    {
      "cell_type": "code",
      "source": [
        "#Q1 - Keep on filtering and testing\n",
        "\n",
        "#selecting out the rows with strings that contain shark/sharks\n",
        "df_question1 = df4.loc[df4.Shark_Type.str.contains('shark|sharks')]\n",
        "\n",
        "#more White Sharks are coming out selecting on white/White\n",
        "df_question1.loc[df_question1.Shark_Type.str.contains('white |White ')]\n",
        "\n",
        "#How do I get to add this information in a df? And after that in a Barchart....\n",
        "\n",
        "df_question1.Shark_Type.value_counts()"
      ],
      "metadata": {
        "id": "hzfVavBTzJWr"
      },
      "execution_count": null,
      "outputs": []
    },
    {
      "cell_type": "code",
      "source": [
        "#Q1 - PLOT 1 - needed for a correct answer?\n",
        "\n",
        "sharks = df_question1.loc[df_question1['Shark_Type'].sort_values(15)\n",
        "x = sharks #error: expected \"[\"  ????\n",
        "\n",
        "attacks = df_question1.groupby('Shark_Type')['Shark_Type'].count().sort_values(ascending=False)[0:10]\n",
        "y = attacks \n",
        "\n",
        "fig, ax = plt.subplots()\n",
        "ax.bar(x, y)\n",
        "#plt.title('What are the most dangerous types of sharks to humans?')\n",
        "#plt.xlabel('Shark Types')\n",
        "#plt.ylabel('Number of Attacks')\n",
        "plt.show()"
      ],
      "metadata": {
        "id": "t7oNxYR9-x-9"
      },
      "execution_count": null,
      "outputs": []
    },
    {
      "cell_type": "code",
      "source": [
        "#QUESTION 2. ARE CHILDREN MORE LIKELY TO BE ATTACKED BY SHARKS?\n",
        "\n",
        "#to find the answer I would like to make a scatterchart to view the relationship between ages and attacks (liniear regression)\n",
        "\n",
        "#first some sorting things\n",
        "df_question2_ages = df4.Age.value_counts().head(30).sort_values(ascending=False)\n",
        "df_question2 = df_question2_ages.to_frame()\n",
        "#df_question2_ages\n",
        "#display(df_question2)\n",
        "\n",
        "#remove second row Unknown 22252\n",
        "\n",
        "#rename columns\n",
        "df2_question2 = df_question2.rename(columns={'Age': 'Attack_per_Age'})\n",
        "df2_question2 = df2_question2.drop(df2_question2.index[0])\n",
        "display(df2_question2)\n",
        "\n"
      ],
      "metadata": {
        "id": "rRSHms1FBxkE"
      },
      "execution_count": null,
      "outputs": []
    },
    {
      "cell_type": "code",
      "source": [
        "#Q2 - plot\n",
        "x = df2_question2.index.sort_values(ascending=True)\n",
        "y = df2_question2.loc[:, 'Attack_per_Age'].sort_values(ascending=True)\n",
        "\n",
        "fig, ax = plt.subplots(figsize=(15,10))\n",
        "\n",
        "ax.scatter(x, y)\n",
        "\n",
        "plt.title('Attacks per Age')\n",
        "plt.xlabel('Ages')\n",
        "plt.ylabel('Attack', rotation=0)\n",
        "plt.grid() \n",
        "\n",
        "plt.show()\n",
        "\n",
        "#plot is nog okay, not the right Attack/Ages - sorting problem?"
      ],
      "metadata": {
        "colab": {
          "base_uri": "https://localhost:8080/",
          "height": 621
        },
        "id": "RRLo9-xsPu2a",
        "outputId": "b9ad5042-9748-4bf7-ac10-b80a5b110320"
      },
      "execution_count": null,
      "outputs": [
        {
          "output_type": "display_data",
          "data": {
            "text/plain": [
              "<Figure size 1080x720 with 1 Axes>"
            ],
            "image/png": "[encoded data removed]"
          },
          "metadata": {
            "needs_background": "light"
          }
        }
      ]
    },
    {
      "cell_type": "code",
      "source": [
        "#QUESTION 3 - ARE SHARKS ATTACKS WHERE SHARKS WERE PROVOKED MORE OF LESS DANGEROUS?\n",
        "\n",
        "#goal: to make a barchart with these 4 values in it. #plot.bar(stacked=True)?\n",
        "\n",
        "#start to make a df with the columns Attack_Type and Fatal!\n",
        "df5 = df3.loc[:, ['Attack_Type','Fatal']]\n",
        "\n",
        "df6 = df5.dropna(how='all') #doesnot work???\n"
      ],
      "metadata": {
        "id": "EUIkoXE2V59L"
      },
      "execution_count": null,
      "outputs": []
    },
    {
      "cell_type": "code",
      "source": [
        "#Q3 - selecting the rows with Unprovoked/Provoked en Y/N in the columns Attack_Type and Fatal\n",
        "\n",
        "df_q3_Attack_Type = df5.loc[df5.Attack_Type.str.contains('Unprovoked|Provoked')]\n",
        "df_q3_Attack_Type.sample(5)\n"
      ],
      "metadata": {
        "id": "uwby3v-aMyTj"
      },
      "execution_count": null,
      "outputs": []
    },
    {
      "cell_type": "code",
      "source": [
        "#Q3 - counting Unprovoked/Provoked and Fatal Y/N\n",
        "df_q3_Attack_Type.value_counts()\n",
        "#results:"
      ],
      "metadata": {
        "colab": {
          "base_uri": "https://localhost:8080/"
        },
        "id": "-CbBIZ71WkAP",
        "outputId": "54e87b77-2c1a-4a69-e259-c1019a11719d"
      },
      "execution_count": null,
      "outputs": [
        {
          "output_type": "execute_result",
          "data": {
            "text/plain": [
              "Attack_Type  Fatal  \n",
              "Unprovoked   N          3351\n",
              "             Y          1181\n",
              "Provoked     N           549\n",
              "Unprovoked   UNKNOWN      57\n",
              "Provoked     Y            19\n",
              "             UNKNOWN       3\n",
              "dtype: int64"
            ]
          },
          "metadata": {},
          "execution_count": 183
        }
      ]
    },
    {
      "cell_type": "code",
      "source": [
        "#Q3 - Plot\n",
        "#todo: finetuning after getting the correct numbers!!!\n",
        "#example via matplotlib.org website bar_stacked\n",
        "import matplotlib.pyplot as plt\n",
        "\n",
        "labels = ['Provoked', 'Unprovoked']\n",
        "fatal_y = [19, 1181]\n",
        "fatal_n = [549, 3351]\n",
        "#fatal = [0, 3]\n",
        "#not_fatal = [3, 5]\n",
        "width = 0.25       \n",
        "\n",
        "fig, ax = plt.subplots(figsize=(10,10))\n",
        "\n",
        "ax.bar(labels, fatal_y, width, label='Fatal = No')\n",
        "ax.bar(labels, fatal_n, width, bottom=fatal_y,\n",
        "       label='Fatal = Yess')\n",
        "\n",
        "ax.set_ylabel('Attacks')\n",
        "ax.set_title('Shark attacks Provoked versus Unprovoked')\n",
        "ax.legend(loc='upper center')\n",
        "\n",
        "plt.show()\n",
        "\n",
        "\n",
        "#hmmmm, not satisfied with the result, should I make percentage of the attack numbers?\n",
        "\n",
        "print('Q3 Answer: Provoked Shark attacks are less dangerous then the Unprovoked!')"
      ],
      "metadata": {
        "colab": {
          "base_uri": "https://localhost:8080/",
          "height": 624
        },
        "id": "RLNt-ZldJNkF",
        "outputId": "0dc6cae6-108f-4b35-bbbe-69082fb2121b"
      },
      "execution_count": null,
      "outputs": [
        {
          "output_type": "display_data",
          "data": {
            "text/plain": [
              "<Figure size 720x720 with 1 Axes>"
            ],
            "image/png": "[encoded data removed]"
          },
          "metadata": {
            "needs_background": "light"
          }
        },
        {
          "output_type": "stream",
          "name": "stdout",
          "text": [
            "Q3 Answer: Provoked Shark attacks are less dangerous then the Unprovoked!\n"
          ]
        }
      ]
    },
    {
      "cell_type": "code",
      "source": [
        "#QUESTION 4: Are certain activities more likely to result in a shark attack?\n",
        "#quick answer: Certain activities are certainn more likely to result in a shark attack!\n",
        "#Surfing, Swimming and Fishing are not recommanded ;-)\n",
        "\n",
        "#but of course we won't to make the answer visual in a plot... \n",
        "\n",
        "#df3.loc['Activity'].value_counts().head(10)\n",
        "\n",
        "df_q4 = df3.loc[:, ['Activity']].value_counts().head(15)\n",
        "df_q4_2 = df_q4.to_frame() # make a df of it\n",
        "df_q4_2.head(15)"
      ],
      "metadata": {
        "id": "2oLnMvcja6Be"
      },
      "execution_count": null,
      "outputs": []
    },
    {
      "cell_type": "code",
      "source": [
        "#Q4\n",
        "#indexering aanpassen?\n",
        "#kolomnaam 0 aanpassen\n",
        "df_q4_2.rename(columns={'0': 'Attack_Numbers'}, inplace=True) #does'nt work out :-(\n",
        "df_q4_2.head(15)"
      ],
      "metadata": {
        "colab": {
          "base_uri": "https://localhost:8080/",
          "height": 551
        },
        "id": "WGa0B-Gxqau7",
        "outputId": "fac754ef-bb29-41b6-a69a-8c68d409eb43"
      },
      "execution_count": null,
      "outputs": [
        {
          "output_type": "execute_result",
          "data": {
            "text/plain": [
              "                    0\n",
              "Activity             \n",
              "Unknown         19968\n",
              "Surfing           971\n",
              "Swimming          916\n",
              "Fishing           431\n",
              "Spearfishing      333\n",
              "Bathing           162\n",
              "Wading            149\n",
              "Diving            127\n",
              "Standing           99\n",
              "Snorkeling         89\n",
              "Scuba diving       76\n",
              "Body boarding      61\n",
              "Body surfing       49\n",
              "Kayaking           33\n",
              "Treading water     32"
            ],
            "text/html": [
              "\n",
              "  <div id=\"df-7f7631f8-fdad-4d7b-aa9f-a1d8715fbc4a\">\n",
              "    <div class=\"colab-df-container\">\n",
              "      <div>\n",
              "<style scoped>\n",
              "    .dataframe tbody tr th:only-of-type {\n",
              "        vertical-align: middle;\n",
              "    }\n",
              "\n",
              "    .dataframe tbody tr th {\n",
              "        vertical-align: top;\n",
              "    }\n",
              "\n",
              "    .dataframe thead th {\n",
              "        text-align: right;\n",
              "    }\n",
              "</style>\n",
              "<table border=\"1\" class=\"dataframe\">\n",
              "  <thead>\n",
              "    <tr style=\"text-align: right;\">\n",
              "      <th></th>\n",
              "      <th>0</th>\n",
              "    </tr>\n",
              "    <tr>\n",
              "      <th>Activity</th>\n",
              "      <th></th>\n",
              "    </tr>\n",
              "  </thead>\n",
              "  <tbody>\n",
              "    <tr>\n",
              "      <th>Unknown</th>\n",
              "      <td>19968</td>\n",
              "    </tr>\n",
              "    <tr>\n",
              "      <th>Surfing</th>\n",
              "      <td>971</td>\n",
              "    </tr>\n",
              "    <tr>\n",
              "      <th>Swimming</th>\n",
              "      <td>916</td>\n",
              "    </tr>\n",
              "    <tr>\n",
              "      <th>Fishing</th>\n",
              "      <td>431</td>\n",
              "    </tr>\n",
              "    <tr>\n",
              "      <th>Spearfishing</th>\n",
              "      <td>333</td>\n",
              "    </tr>\n",
              "    <tr>\n",
              "      <th>Bathing</th>\n",
              "      <td>162</td>\n",
              "    </tr>\n",
              "    <tr>\n",
              "      <th>Wading</th>\n",
              "      <td>149</td>\n",
              "    </tr>\n",
              "    <tr>\n",
              "      <th>Diving</th>\n",
              "      <td>127</td>\n",
              "    </tr>\n",
              "    <tr>\n",
              "      <th>Standing</th>\n",
              "      <td>99</td>\n",
              "    </tr>\n",
              "    <tr>\n",
              "      <th>Snorkeling</th>\n",
              "      <td>89</td>\n",
              "    </tr>\n",
              "    <tr>\n",
              "      <th>Scuba diving</th>\n",
              "      <td>76</td>\n",
              "    </tr>\n",
              "    <tr>\n",
              "      <th>Body boarding</th>\n",
              "      <td>61</td>\n",
              "    </tr>\n",
              "    <tr>\n",
              "      <th>Body surfing</th>\n",
              "      <td>49</td>\n",
              "    </tr>\n",
              "    <tr>\n",
              "      <th>Kayaking</th>\n",
              "      <td>33</td>\n",
              "    </tr>\n",
              "    <tr>\n",
              "      <th>Treading water</th>\n",
              "      <td>32</td>\n",
              "    </tr>\n",
              "  </tbody>\n",
              "</table>\n",
              "</div>\n",
              "      <button class=\"colab-df-convert\" onclick=\"convertToInteractive('df-7f7631f8-fdad-4d7b-aa9f-a1d8715fbc4a')\"\n",
              "              title=\"Convert this dataframe to an interactive table.\"\n",
              "              style=\"display:none;\">\n",
              "        \n",
              "  <svg xmlns=\"http://www.w3.org/2000/svg\" height=\"24px\"viewBox=\"0 0 24 24\"\n",
              "       width=\"24px\">\n",
              "    <path d=\"M0 0h24v24H0V0z\" fill=\"none\"/>\n",
              "    <path d=\"M18.56 5.44l.94 2.06.94-2.06 2.06-.94-2.06-.94-.94-2.06-.94 2.06-2.06.94zm-11 1L8.5 8.5l.94-2.06 2.06-.94-2.06-.94L8.5 2.5l-.94 2.06-2.06.94zm10 10l.94 2.06.94-2.06 2.06-.94-2.06-.94-.94-2.06-.94 2.06-2.06.94z\"/><path d=\"M17.41 7.96l-1.37-1.37c-.4-.4-.92-.59-1.43-.59-.52 0-1.04.2-1.43.59L10.3 9.45l-7.72 7.72c-.78.78-.78 2.05 0 2.83L4 21.41c.39.39.9.59 1.41.59.51 0 1.02-.2 1.41-.59l7.78-7.78 2.81-2.81c.8-.78.8-2.07 0-2.86zM5.41 20L4 18.59l7.72-7.72 1.47 1.35L5.41 20z\"/>\n",
              "  </svg>\n",
              "      </button>\n",
              "      \n",
              "  <style>\n",
              "    .colab-df-container {\n",
              "      display:flex;\n",
              "      flex-wrap:wrap;\n",
              "      gap: 12px;\n",
              "    }\n",
              "\n",
              "    .colab-df-convert {\n",
              "      background-color: #E8F0FE;\n",
              "      border: none;\n",
              "      border-radius: 50%;\n",
              "      cursor: pointer;\n",
              "      display: none;\n",
              "      fill: #1967D2;\n",
              "      height: 32px;\n",
              "      padding: 0 0 0 0;\n",
              "      width: 32px;\n",
              "    }\n",
              "\n",
              "    .colab-df-convert:hover {\n",
              "      background-color: #E2EBFA;\n",
              "      box-shadow: 0px 1px 2px rgba(60, 64, 67, 0.3), 0px 1px 3px 1px rgba(60, 64, 67, 0.15);\n",
              "      fill: #174EA6;\n",
              "    }\n",
              "\n",
              "    [theme=dark] .colab-df-convert {\n",
              "      background-color: #3B4455;\n",
              "      fill: #D2E3FC;\n",
              "    }\n",
              "\n",
              "    [theme=dark] .colab-df-convert:hover {\n",
              "      background-color: #434B5C;\n",
              "      box-shadow: 0px 1px 3px 1px rgba(0, 0, 0, 0.15);\n",
              "      filter: drop-shadow(0px 1px 2px rgba(0, 0, 0, 0.3));\n",
              "      fill: #FFFFFF;\n",
              "    }\n",
              "  </style>\n",
              "\n",
              "      <script>\n",
              "        const buttonEl =\n",
              "          document.querySelector('#df-7f7631f8-fdad-4d7b-aa9f-a1d8715fbc4a button.colab-df-convert');\n",
              "        buttonEl.style.display =\n",
              "          google.colab.kernel.accessAllowed ? 'block' : 'none';\n",
              "\n",
              "        async function convertToInteractive(key) {\n",
              "          const element = document.querySelector('#df-7f7631f8-fdad-4d7b-aa9f-a1d8715fbc4a');\n",
              "          const dataTable =\n",
              "            await google.colab.kernel.invokeFunction('convertToInteractive',\n",
              "                                                     [key], {});\n",
              "          if (!dataTable) return;\n",
              "\n",
              "          const docLinkHtml = 'Like what you see? Visit the ' +\n",
              "            '<a target=\"_blank\" href=https://colab.research.google.com/notebooks/data_table.ipynb>data table notebook</a>'\n",
              "            + ' to learn more about interactive tables.';\n",
              "          element.innerHTML = '';\n",
              "          dataTable['output_type'] = 'display_data';\n",
              "          await google.colab.output.renderOutput(dataTable, element);\n",
              "          const docLink = document.createElement('div');\n",
              "          docLink.innerHTML = docLinkHtml;\n",
              "          element.appendChild(docLink);\n",
              "        }\n",
              "      </script>\n",
              "    </div>\n",
              "  </div>\n",
              "  "
            ]
          },
          "metadata": {},
          "execution_count": 267
        }
      ]
    },
    {
      "cell_type": "code",
      "source": [
        "#Q4 - plot\n",
        "#plotting won't fit either...\n",
        "fig, ax = plt.subplots()\n",
        "\n",
        "x = df_q4_2.index\n",
        "y = df_q4_2.loc[df_q4_2['0']\n",
        "\n",
        "ax.bar(x, y)\n",
        "plt.title('Activities that lead more likely to shark attacks')\n",
        "plt.xlabel('Activity')\n",
        "plt.ylabel('Attacks')\n",
        "plt.show()"
      ],
      "metadata": {
        "colab": {
          "base_uri": "https://localhost:8080/",
          "height": 131
        },
        "id": "sM0MvXbHbtkm",
        "outputId": "73dcf408-00d6-4da3-f808-f2bbaae74095"
      },
      "execution_count": null,
      "outputs": [
        {
          "output_type": "error",
          "ename": "SyntaxError",
          "evalue": "ignored",
          "traceback": [
            "\u001b[0;36m  File \u001b[0;32m\"<ipython-input-264-9cb1f4eebd94>\"\u001b[0;36m, line \u001b[0;32m7\u001b[0m\n\u001b[0;31m    ax.bar(x, y)\u001b[0m\n\u001b[0m     ^\u001b[0m\n\u001b[0;31mSyntaxError\u001b[0m\u001b[0;31m:\u001b[0m invalid syntax\n"
          ]
        }
      ]
    },
    {
      "cell_type": "code",
      "source": [
        "#24052022 Kind of vastgelopen, besloten deze eerste versie van de Shark opdracht in te leveren en met de Winc feedback de opdracht verder te finetunen."
      ],
      "metadata": {
        "id": "fWOv6hOX0S8G"
      },
      "execution_count": null,
      "outputs": []
    }
  ]
}